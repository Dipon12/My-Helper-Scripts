{
 "cells": [
  {
   "cell_type": "code",
   "execution_count": 1,
   "metadata": {},
   "outputs": [
    {
     "name": "stdout",
     "output_type": "stream",
     "text": [
      "['0', '46', '47', '48']\n"
     ]
    }
   ],
   "source": [
    "import cv2\n",
    "import os\n",
    "\n",
    "filepath = \"F:\\\\AI Paper\\\\Sign Language\\\\OkkhorNama\\\\Unrefined Data\\\\Videos\"\n",
    "#full_path = os.path.join(filepath,class_num)\n",
    "#vid_list = os.listdir(full_path)\n",
    "\n",
    "folder_names = os.listdir(filepath)\n",
    "\n",
    "print(folder_names)"
   ]
  },
  {
   "cell_type": "code",
   "execution_count": 2,
   "metadata": {},
   "outputs": [],
   "source": [
    "### For Folder Containing Multiple Sub Folder\n",
    "for class_num in folder_names:\n",
    "    \n",
    "    full_path = os.path.join(filepath,class_num)\n",
    "    vid_list = os.listdir(full_path)\n",
    "\n",
    "    os.chdir(full_path)\n",
    "    image_no = 0\n",
    "\n",
    "    for vidz in vid_list:\n",
    "        cap = cv2.VideoCapture(vidz) #for camera...for video file write file name instead of 0\n",
    "        ret = True\n",
    "        frame_no = 0\n",
    "        while(ret):\n",
    "            ret,frame = cap.read() # ret is True/false if frame is available...then the frames \n",
    "            frame_no = frame_no + 1\n",
    "\n",
    "            if frame_no%30==0:\n",
    "                cv2.imwrite(f\"frame_{image_no}.jpg\",frame)\n",
    "                image_no += 1\n",
    "\n",
    "\n",
    "        cap.release()\n",
    "        cv2.destroyAllWindows()"
   ]
  },
  {
   "cell_type": "code",
   "execution_count": 41,
   "metadata": {},
   "outputs": [],
   "source": [
    "### For One Particular Folder\n",
    "\n",
    "cap = cv2.VideoCapture(vid_list[3]) #for camera...for video file write file name instead of 0\n",
    "ret = True\n",
    "frame_no = 18\n",
    "while(ret):\n",
    "    ret,frame = cap.read() # ret is True/false if frame is available...then the frames \n",
    "    frame_no = frame_no + 1\n",
    "\n",
    "    if frame_no%30==0:\n",
    "        cv2.imwrite(f\"frame_{image_no}.jpg\",frame)\n",
    "        image_no += 1\n",
    "\n",
    "\n",
    "cap.release()\n",
    "cv2.destroyAllWindows()"
   ]
  },
  {
   "cell_type": "code",
   "execution_count": null,
   "metadata": {},
   "outputs": [],
   "source": []
  }
 ],
 "metadata": {
  "kernelspec": {
   "display_name": "Python 3",
   "language": "python",
   "name": "python3"
  },
  "language_info": {
   "codemirror_mode": {
    "name": "ipython",
    "version": 3
   },
   "file_extension": ".py",
   "mimetype": "text/x-python",
   "name": "python",
   "nbconvert_exporter": "python",
   "pygments_lexer": "ipython3",
   "version": "3.8.3"
  }
 },
 "nbformat": 4,
 "nbformat_minor": 4
}
