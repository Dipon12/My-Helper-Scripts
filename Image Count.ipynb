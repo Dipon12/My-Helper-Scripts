{
 "cells": [
  {
   "cell_type": "code",
   "execution_count": 8,
   "metadata": {},
   "outputs": [
    {
     "name": "stdout",
     "output_type": "stream",
     "text": [
      "['0', '1', '10', '11', '12', '13', '14', '15', '16', '17', '18', '19', '2', '20', '21', '22', '23', '24', '25', '26', '27', '28', '29', '3', '30', '31', '32', '33', '34', '35', '36', '37', '38', '39', '4', '40', '41', '42', '43', '44', '45', '5', '6', '7', '8', '9']\n"
     ]
    }
   ],
   "source": [
    "import os\n",
    "\n",
    "filepath = \"F:\\\\AI Paper\\\\Sign Language\\\\OkkhorNama\\\\Refined Data\\\\\"\n",
    "\n",
    "classes_name = os.listdir(filepath)\n",
    "print(classes_name)"
   ]
  },
  {
   "cell_type": "code",
   "execution_count": 10,
   "metadata": {},
   "outputs": [
    {
     "name": "stdout",
     "output_type": "stream",
     "text": [
      "Class:0 and Images:46.0\n",
      "Class:1 and Images:60.0\n",
      "Class:10 and Images:135.0\n",
      "Class:11 and Images:144.0\n",
      "Class:12 and Images:163.0\n",
      "Class:13 and Images:82.0\n",
      "Class:14 and Images:77.0\n",
      "Class:15 and Images:84.0\n",
      "Class:16 and Images:79.0\n",
      "Class:17 and Images:78.0\n",
      "Class:18 and Images:89.0\n",
      "Class:19 and Images:160.0\n",
      "Class:2 and Images:95.0\n",
      "Class:20 and Images:103.0\n",
      "Class:21 and Images:146.0\n",
      "Class:22 and Images:154.0\n",
      "Class:23 and Images:166.0\n",
      "Class:24 and Images:92.0\n",
      "Class:25 and Images:113.0\n",
      "Class:26 and Images:66.0\n",
      "Class:27 and Images:117.0\n",
      "Class:28 and Images:128.0\n",
      "Class:29 and Images:154.0\n",
      "Class:3 and Images:98.0\n",
      "Class:30 and Images:112.0\n",
      "Class:31 and Images:117.0\n",
      "Class:32 and Images:159.0\n",
      "Class:33 and Images:118.0\n",
      "Class:34 and Images:161.0\n",
      "Class:35 and Images:133.0\n",
      "Class:36 and Images:178.0\n",
      "Class:37 and Images:173.0\n",
      "Class:38 and Images:178.0\n",
      "Class:39 and Images:146.0\n",
      "Class:4 and Images:103.0\n",
      "Class:40 and Images:183.0\n",
      "Class:41 and Images:188.0\n",
      "Class:42 and Images:176.0\n",
      "Class:43 and Images:187.0\n",
      "Class:44 and Images:179.0\n",
      "Class:45 and Images:171.0\n",
      "Class:5 and Images:93.0\n",
      "Class:6 and Images:110.0\n",
      "Class:7 and Images:118.0\n",
      "Class:8 and Images:110.0\n",
      "Class:9 and Images:109.0\n"
     ]
    }
   ],
   "source": [
    "total =0 \n",
    "for c in classes_name:\n",
    "    fp = os.path.join(filepath,c)\n",
    "    \n",
    "    count = len(os.listdir(fp))\n",
    "    \n",
    "    if count%2==0:\n",
    "        print(f\"Class:{c} and Images:{count/2}\")\n",
    "        total+=count/2\n",
    "    else:\n",
    "        print(f\"Class:{c} and Images:{(count-1)/2}\")\n",
    "        total+=(count-1)/2"
   ]
  },
  {
   "cell_type": "code",
   "execution_count": 11,
   "metadata": {},
   "outputs": [
    {
     "name": "stdout",
     "output_type": "stream",
     "text": [
      "5831.0\n"
     ]
    }
   ],
   "source": [
    "print(total)"
   ]
  },
  {
   "cell_type": "code",
   "execution_count": null,
   "metadata": {},
   "outputs": [],
   "source": []
  }
 ],
 "metadata": {
  "kernelspec": {
   "display_name": "Python 3",
   "language": "python",
   "name": "python3"
  },
  "language_info": {
   "codemirror_mode": {
    "name": "ipython",
    "version": 3
   },
   "file_extension": ".py",
   "mimetype": "text/x-python",
   "name": "python",
   "nbconvert_exporter": "python",
   "pygments_lexer": "ipython3",
   "version": "3.8.3"
  }
 },
 "nbformat": 4,
 "nbformat_minor": 4
}
