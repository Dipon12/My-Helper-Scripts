{
 "cells": [
  {
   "cell_type": "code",
   "execution_count": 1,
   "metadata": {},
   "outputs": [],
   "source": [
    "import os\n",
    "import cv2\n",
    "\n",
    "#filepath = \"F:\\\\AI Paper\\\\Sign Language\\\\OkkhorNama\\\\Inference Dataset\"\n",
    "filepath = \"F:\\\\AI Paper\\\\Sign Language\\\\OkkhorNama\\\\Testing\"\n",
    "\n",
    "img_names = os.listdir(filepath)\n",
    "#dest = \"F:\\\\AI Paper\\\\Sign Language\\\\OkkhorNama\\\\Processed\"\n",
    "dest = \"F:\\\\AI Paper\\\\Sign Language\\\\OkkhorNama\\\\Testing\""
   ]
  },
  {
   "cell_type": "code",
   "execution_count": 2,
   "metadata": {},
   "outputs": [],
   "source": [
    "targetHeight=targetWidth=640\n",
    "\n",
    "targetSize=(targetHeight,targetWidth)\n",
    "\n",
    "for im in img_names:\n",
    "    os.chdir(filepath)\n",
    "    img = cv2.imread(im)\n",
    "    img = cv2.resize(img,targetSize)\n",
    "    os.chdir(dest)\n",
    "    cv2.imwrite(im,img)"
   ]
  },
  {
   "cell_type": "code",
   "execution_count": 9,
   "metadata": {},
   "outputs": [],
   "source": []
  },
  {
   "cell_type": "code",
   "execution_count": null,
   "metadata": {},
   "outputs": [],
   "source": []
  }
 ],
 "metadata": {
  "kernelspec": {
   "display_name": "Python 3",
   "language": "python",
   "name": "python3"
  },
  "language_info": {
   "codemirror_mode": {
    "name": "ipython",
    "version": 3
   },
   "file_extension": ".py",
   "mimetype": "text/x-python",
   "name": "python",
   "nbconvert_exporter": "python",
   "pygments_lexer": "ipython3",
   "version": "3.8.3"
  }
 },
 "nbformat": 4,
 "nbformat_minor": 4
}
