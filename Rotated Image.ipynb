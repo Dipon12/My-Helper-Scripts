{
 "cells": [
  {
   "cell_type": "markdown",
   "metadata": {},
   "source": [
    "# Normal Rotation"
   ]
  },
  {
   "cell_type": "code",
   "execution_count": 3,
   "metadata": {},
   "outputs": [
    {
     "name": "stdout",
     "output_type": "stream",
     "text": [
      "['0', '46', '47', '48']\n"
     ]
    }
   ],
   "source": [
    "from PIL import Image, ExifTags\n",
    "import os\n",
    "\n",
    "filepath = \"F:\\\\AI Paper\\\\Sign Language\\\\OkkhorNama\\\\Unrefined Data\\\\Videos\"\n",
    "\n",
    "\n",
    "\n",
    "#folder_names = os.listdir(filepath)\n",
    "folder_names = ['0','46','47','48']\n",
    "print(folder_names)"
   ]
  },
  {
   "cell_type": "code",
   "execution_count": 4,
   "metadata": {},
   "outputs": [
    {
     "name": "stdout",
     "output_type": "stream",
     "text": [
      "Class: 0 and Image: frame_10.jpg Success!!!\n",
      "Class: 0 and Image: frame_11.jpg Success!!!\n",
      "Class: 0 and Image: frame_12.jpg Success!!!\n",
      "Class: 0 and Image: frame_13.jpg Success!!!\n",
      "Class: 0 and Image: frame_14.jpg Success!!!\n",
      "Class: 0 and Image: frame_15.jpg Success!!!\n",
      "Class: 0 and Image: frame_16.jpg Success!!!\n",
      "Class: 0 and Image: frame_17.jpg Success!!!\n",
      "Class: 0 and Image: frame_18.jpg Success!!!\n",
      "Class: 0 and Image: frame_19.jpg Success!!!\n",
      "Class: 0 and Image: frame_20.jpg Success!!!\n",
      "Class: 0 and Image: frame_21.jpg Success!!!\n",
      "Class: 0 and Image: frame_22.jpg Success!!!\n",
      "Class: 0 and Image: frame_23.jpg Success!!!\n",
      "Class: 0 and Image: frame_24.jpg Success!!!\n",
      "Class: 0 and Image: frame_25.jpg Success!!!\n",
      "Class: 0 and Image: frame_4.jpg Success!!!\n",
      "Class: 0 and Image: frame_5.jpg Success!!!\n",
      "Class: 0 and Image: frame_6.jpg Success!!!\n",
      "Class: 0 and Image: frame_7.jpg Success!!!\n",
      "Class: 0 and Image: frame_8.jpg Success!!!\n",
      "Class: 0 and Image: frame_9.jpg Success!!!\n",
      "Class: 46 and Image: frame_0.jpg Success!!!\n",
      "Class: 46 and Image: frame_1.jpg Success!!!\n",
      "Class: 46 and Image: frame_10.jpg Success!!!\n",
      "Class: 46 and Image: frame_11.jpg Success!!!\n",
      "Class: 46 and Image: frame_12.jpg Success!!!\n",
      "Class: 46 and Image: frame_13.jpg Success!!!\n",
      "Class: 46 and Image: frame_14.jpg Success!!!\n",
      "Class: 46 and Image: frame_15.jpg Success!!!\n",
      "Class: 46 and Image: frame_16.jpg Success!!!\n",
      "Class: 46 and Image: frame_17.jpg Success!!!\n",
      "Class: 46 and Image: frame_18.jpg Success!!!\n",
      "Class: 46 and Image: frame_19.jpg Success!!!\n",
      "Class: 46 and Image: frame_2.jpg Success!!!\n",
      "Class: 46 and Image: frame_20.jpg Success!!!\n",
      "Class: 46 and Image: frame_21.jpg Success!!!\n",
      "Class: 46 and Image: frame_22.jpg Success!!!\n",
      "Class: 46 and Image: frame_23.jpg Success!!!\n",
      "Class: 46 and Image: frame_24.jpg Success!!!\n",
      "Class: 46 and Image: frame_25.jpg Success!!!\n",
      "Class: 46 and Image: frame_26.jpg Success!!!\n",
      "Class: 46 and Image: frame_27.jpg Success!!!\n",
      "Class: 46 and Image: frame_28.jpg Success!!!\n",
      "Class: 46 and Image: frame_29.jpg Success!!!\n",
      "Class: 46 and Image: frame_3.jpg Success!!!\n",
      "Class: 46 and Image: frame_30.jpg Success!!!\n",
      "Class: 46 and Image: frame_31.jpg Success!!!\n",
      "Class: 46 and Image: frame_32.jpg Success!!!\n",
      "Class: 46 and Image: frame_33.jpg Success!!!\n",
      "Class: 46 and Image: frame_34.jpg Success!!!\n",
      "Class: 46 and Image: frame_35.jpg Success!!!\n",
      "Class: 46 and Image: frame_36.jpg Success!!!\n",
      "Class: 46 and Image: frame_37.jpg Success!!!\n",
      "Class: 46 and Image: frame_4.jpg Success!!!\n",
      "Class: 46 and Image: frame_5.jpg Success!!!\n",
      "Class: 46 and Image: frame_6.jpg Success!!!\n",
      "Class: 46 and Image: frame_7.jpg Success!!!\n",
      "Class: 46 and Image: frame_8.jpg Success!!!\n",
      "Class: 46 and Image: frame_9.jpg Success!!!\n",
      "Class: 47 and Image: frame_0.jpg Success!!!\n",
      "Class: 47 and Image: frame_1.jpg Success!!!\n",
      "Class: 47 and Image: frame_10.jpg Success!!!\n",
      "Class: 47 and Image: frame_11.jpg Success!!!\n",
      "Class: 47 and Image: frame_12.jpg Success!!!\n",
      "Class: 47 and Image: frame_13.jpg Success!!!\n",
      "Class: 47 and Image: frame_14.jpg Success!!!\n",
      "Class: 47 and Image: frame_15.jpg Success!!!\n",
      "Class: 47 and Image: frame_16.jpg Success!!!\n",
      "Class: 47 and Image: frame_17.jpg Success!!!\n",
      "Class: 47 and Image: frame_18.jpg Success!!!\n",
      "Class: 47 and Image: frame_19.jpg Success!!!\n",
      "Class: 47 and Image: frame_2.jpg Success!!!\n",
      "Class: 47 and Image: frame_20.jpg Success!!!\n",
      "Class: 47 and Image: frame_21.jpg Success!!!\n",
      "Class: 47 and Image: frame_22.jpg Success!!!\n",
      "Class: 47 and Image: frame_23.jpg Success!!!\n",
      "Class: 47 and Image: frame_24.jpg Success!!!\n",
      "Class: 47 and Image: frame_25.jpg Success!!!\n",
      "Class: 47 and Image: frame_26.jpg Success!!!\n",
      "Class: 47 and Image: frame_27.jpg Success!!!\n",
      "Class: 47 and Image: frame_28.jpg Success!!!\n",
      "Class: 47 and Image: frame_29.jpg Success!!!\n",
      "Class: 47 and Image: frame_3.jpg Success!!!\n",
      "Class: 47 and Image: frame_30.jpg Success!!!\n",
      "Class: 47 and Image: frame_31.jpg Success!!!\n",
      "Class: 47 and Image: frame_32.jpg Success!!!\n",
      "Class: 47 and Image: frame_33.jpg Success!!!\n",
      "Class: 47 and Image: frame_34.jpg Success!!!\n",
      "Class: 47 and Image: frame_4.jpg Success!!!\n",
      "Class: 47 and Image: frame_5.jpg Success!!!\n",
      "Class: 47 and Image: frame_6.jpg Success!!!\n",
      "Class: 47 and Image: frame_7.jpg Success!!!\n",
      "Class: 47 and Image: frame_8.jpg Success!!!\n",
      "Class: 47 and Image: frame_9.jpg Success!!!\n",
      "Class: 48 and Image: frame_0.jpg Success!!!\n",
      "Class: 48 and Image: frame_1.jpg Success!!!\n",
      "Class: 48 and Image: frame_10.jpg Success!!!\n",
      "Class: 48 and Image: frame_11.jpg Success!!!\n",
      "Class: 48 and Image: frame_12.jpg Success!!!\n",
      "Class: 48 and Image: frame_13.jpg Success!!!\n",
      "Class: 48 and Image: frame_14.jpg Success!!!\n",
      "Class: 48 and Image: frame_15.jpg Success!!!\n",
      "Class: 48 and Image: frame_16.jpg Success!!!\n",
      "Class: 48 and Image: frame_17.jpg Success!!!\n",
      "Class: 48 and Image: frame_18.jpg Success!!!\n",
      "Class: 48 and Image: frame_19.jpg Success!!!\n",
      "Class: 48 and Image: frame_2.jpg Success!!!\n",
      "Class: 48 and Image: frame_20.jpg Success!!!\n",
      "Class: 48 and Image: frame_21.jpg Success!!!\n",
      "Class: 48 and Image: frame_22.jpg Success!!!\n",
      "Class: 48 and Image: frame_23.jpg Success!!!\n",
      "Class: 48 and Image: frame_24.jpg Success!!!\n",
      "Class: 48 and Image: frame_25.jpg Success!!!\n",
      "Class: 48 and Image: frame_26.jpg Success!!!\n",
      "Class: 48 and Image: frame_27.jpg Success!!!\n",
      "Class: 48 and Image: frame_28.jpg Success!!!\n",
      "Class: 48 and Image: frame_29.jpg Success!!!\n",
      "Class: 48 and Image: frame_3.jpg Success!!!\n",
      "Class: 48 and Image: frame_30.jpg Success!!!\n",
      "Class: 48 and Image: frame_31.jpg Success!!!\n",
      "Class: 48 and Image: frame_32.jpg Success!!!\n",
      "Class: 48 and Image: frame_33.jpg Success!!!\n",
      "Class: 48 and Image: frame_34.jpg Success!!!\n",
      "Class: 48 and Image: frame_35.jpg Success!!!\n",
      "Class: 48 and Image: frame_36.jpg Success!!!\n",
      "Class: 48 and Image: frame_37.jpg Success!!!\n",
      "Class: 48 and Image: frame_38.jpg Success!!!\n",
      "Class: 48 and Image: frame_39.jpg Success!!!\n",
      "Class: 48 and Image: frame_4.jpg Success!!!\n",
      "Class: 48 and Image: frame_40.jpg Success!!!\n",
      "Class: 48 and Image: frame_5.jpg Success!!!\n",
      "Class: 48 and Image: frame_6.jpg Success!!!\n",
      "Class: 48 and Image: frame_7.jpg Success!!!\n",
      "Class: 48 and Image: frame_8.jpg Success!!!\n",
      "Class: 48 and Image: frame_9.jpg Success!!!\n"
     ]
    }
   ],
   "source": [
    "for class_num in folder_names:\n",
    "    \n",
    "    full_path = os.path.join(filepath,class_num)\n",
    "    image_names = os.listdir(full_path)\n",
    "    \n",
    "    os.chdir(full_path)\n",
    "    \n",
    "    for i in image_names:\n",
    "        image = Image.open(i)\n",
    "        image  = image.transpose(Image.ROTATE_270)\n",
    "        image.save(i)\n",
    "        print(f\"Class: {class_num} and Image: {i} Success!!!\")\n",
    "        "
   ]
  },
  {
   "cell_type": "markdown",
   "metadata": {},
   "source": [
    "# Exif Rotation"
   ]
  },
  {
   "cell_type": "code",
   "execution_count": 1,
   "metadata": {},
   "outputs": [
    {
     "name": "stdout",
     "output_type": "stream",
     "text": [
      "['46', '47', '48']\n"
     ]
    }
   ],
   "source": [
    "import os\n",
    "from PIL import Image, ExifTags\n",
    "\n",
    "\n",
    "filepath = \"F:\\\\AI Paper\\\\Sign Language\\\\OkkhorNama\\\\Unrefined Data\\\\Images\\\\\"\n",
    "#class_num = os.listdir(filepath)\n",
    "class_num = ['46','47','48']\n",
    "print(class_num)"
   ]
  },
  {
   "cell_type": "code",
   "execution_count": 2,
   "metadata": {},
   "outputs": [],
   "source": [
    "for c in class_num:\n",
    "    \n",
    "    fp = os.path.join(filepath,c)\n",
    "    os.chdir(fp)\n",
    "    \n",
    "    image_names = os.listdir(fp)\n",
    "\n",
    "    for i in image_names:\n",
    "\n",
    "        try:\n",
    "            image=Image.open(i)\n",
    "\n",
    "            for orientation in ExifTags.TAGS.keys():\n",
    "                if ExifTags.TAGS[orientation]=='Orientation':\n",
    "                    break\n",
    "\n",
    "            exif=dict(image._getexif().items())\n",
    "\n",
    "            if exif[orientation] == 3:\n",
    "                image=image.rotate(180, expand=True)\n",
    "            elif exif[orientation] == 6:\n",
    "                image=image.rotate(270, expand=True)\n",
    "            elif exif[orientation] == 8:\n",
    "                image=image.rotate(90, expand=True)\n",
    "\n",
    "            image.save(i)\n",
    "            image.close()\n",
    "\n",
    "        except (AttributeError, KeyError, IndexError):\n",
    "            pass"
   ]
  },
  {
   "cell_type": "markdown",
   "metadata": {},
   "source": [
    "# For Inference"
   ]
  },
  {
   "cell_type": "code",
   "execution_count": 2,
   "metadata": {
    "scrolled": true
   },
   "outputs": [],
   "source": [
    "from PIL import Image, ExifTags\n",
    "import os\n",
    "\n",
    "\n",
    "fp = \"F:\\\\AI Paper\\\\Sign Language\\\\OkkhorNama\\\\Inference Dataset\""
   ]
  },
  {
   "cell_type": "code",
   "execution_count": 3,
   "metadata": {},
   "outputs": [],
   "source": [
    "os.chdir(fp)\n",
    "    \n",
    "image_names = os.listdir(fp)\n",
    "\n",
    "for i in image_names:  \n",
    "    try:\n",
    "        image=Image.open(i)\n",
    "\n",
    "        for orientation in ExifTags.TAGS.keys():\n",
    "            if ExifTags.TAGS[orientation]=='Orientation':\n",
    "                break\n",
    "\n",
    "        exif=dict(image._getexif().items())\n",
    "\n",
    "        if exif[orientation] == 3:\n",
    "            image=image.rotate(180, expand=True)\n",
    "        elif exif[orientation] == 6:\n",
    "            image=image.rotate(270, expand=True)\n",
    "        elif exif[orientation] == 8:\n",
    "            image=image.rotate(90, expand=True)\n",
    "\n",
    "        image.save(i)\n",
    "        image.close()\n",
    "    except (AttributeError, KeyError, IndexError):\n",
    "        # cases: image don't have getexif\n",
    "        pass"
   ]
  },
  {
   "cell_type": "code",
   "execution_count": null,
   "metadata": {},
   "outputs": [],
   "source": []
  }
 ],
 "metadata": {
  "kernelspec": {
   "display_name": "Python 3",
   "language": "python",
   "name": "python3"
  },
  "language_info": {
   "codemirror_mode": {
    "name": "ipython",
    "version": 3
   },
   "file_extension": ".py",
   "mimetype": "text/x-python",
   "name": "python",
   "nbconvert_exporter": "python",
   "pygments_lexer": "ipython3",
   "version": "3.8.3"
  }
 },
 "nbformat": 4,
 "nbformat_minor": 4
}
