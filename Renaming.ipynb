{
 "cells": [
  {
   "cell_type": "code",
   "execution_count": 17,
   "metadata": {},
   "outputs": [],
   "source": [
    "import os\n",
    "\n",
    "class_num = 48\n",
    "ahead = 0\n",
    "\n",
    "\n",
    "file_path = \"F:\\\\AI Paper\\\\Sign Language\\\\OkkhorNama\\\\Unrefined Data\\\\Images\"\n",
    "full_path = os.path.join(file_path,str(class_num))"
   ]
  },
  {
   "cell_type": "code",
   "execution_count": 18,
   "metadata": {},
   "outputs": [
    {
     "name": "stdout",
     "output_type": "stream",
     "text": [
      "['frame_0.jpg', 'frame_1.jpg', 'frame_10.jpg', 'frame_11.jpg', 'frame_12.jpg', 'frame_13.jpg', 'frame_14.jpg', 'frame_15.jpg', 'frame_16.jpg', 'frame_17.jpg', 'frame_18.jpg', 'frame_19.jpg', 'frame_2.jpg', 'frame_20.jpg', 'frame_21.jpg', 'frame_22.jpg', 'frame_23.jpg', 'frame_24.jpg', 'frame_25.jpg', 'frame_26.jpg', 'frame_27.jpg', 'frame_28.jpg', 'frame_29.jpg', 'frame_3.jpg', 'frame_30.jpg', 'frame_31.jpg', 'frame_32.jpg', 'frame_33.jpg', 'frame_34.jpg', 'frame_35.jpg', 'frame_36.jpg', 'frame_37.jpg', 'frame_38.jpg', 'frame_39.jpg', 'frame_4.jpg', 'frame_40.jpg', 'frame_5.jpg', 'frame_6.jpg', 'frame_7.jpg', 'frame_8.jpg', 'frame_9.jpg', 'IMG_20200806_115017.jpg', 'IMG_20200806_115018.jpg', 'IMG_20200806_115020.jpg', 'IMG_20200806_115021.jpg', 'IMG_20200806_115022.jpg', 'IMG_20200806_115023.jpg', 'IMG_20200806_115025.jpg', 'IMG_20200806_115026.jpg', 'IMG_20200806_115027.jpg', 'IMG_20200806_115028.jpg', 'IMG_20200806_115030.jpg', 'IMG_20200806_115035.jpg', 'IMG_20200806_115037.jpg', 'IMG_20200806_115039.jpg', 'IMG_20200806_115041.jpg', 'IMG_20200806_115125.jpg', 'IMG_20200806_115128.jpg', 'IMG_20200806_115130.jpg', 'IMG_20200806_115132.jpg', 'IMG_20200806_115135.jpg', 'IMG_20200806_115136.jpg', 'IMG_20200806_115137.jpg', 'IMG_20200806_115139.jpg', 'IMG_20200806_115141.jpg', 'IMG_20200806_115144.jpg']\n"
     ]
    }
   ],
   "source": [
    "image_names = os.listdir(full_path)\n",
    "print(image_names)\n",
    "\n",
    "os.chdir(full_path)"
   ]
  },
  {
   "cell_type": "code",
   "execution_count": 19,
   "metadata": {},
   "outputs": [],
   "source": [
    "# Renaming File\n",
    "for key,image in enumerate(image_names):\n",
    "    new_name = str(class_num)+'_'+str(key+ahead)+\".jpg\"\n",
    "    os.rename(image,new_name)"
   ]
  },
  {
   "cell_type": "code",
   "execution_count": 20,
   "metadata": {},
   "outputs": [
    {
     "data": {
      "text/plain": [
       "['48_0.jpg',\n",
       " '48_1.jpg',\n",
       " '48_10.jpg',\n",
       " '48_11.jpg',\n",
       " '48_12.jpg',\n",
       " '48_13.jpg',\n",
       " '48_14.jpg',\n",
       " '48_15.jpg',\n",
       " '48_16.jpg',\n",
       " '48_17.jpg',\n",
       " '48_18.jpg',\n",
       " '48_19.jpg',\n",
       " '48_2.jpg',\n",
       " '48_20.jpg',\n",
       " '48_21.jpg',\n",
       " '48_22.jpg',\n",
       " '48_23.jpg',\n",
       " '48_24.jpg',\n",
       " '48_25.jpg',\n",
       " '48_26.jpg',\n",
       " '48_27.jpg',\n",
       " '48_28.jpg',\n",
       " '48_29.jpg',\n",
       " '48_3.jpg',\n",
       " '48_30.jpg',\n",
       " '48_31.jpg',\n",
       " '48_32.jpg',\n",
       " '48_33.jpg',\n",
       " '48_34.jpg',\n",
       " '48_35.jpg',\n",
       " '48_36.jpg',\n",
       " '48_37.jpg',\n",
       " '48_38.jpg',\n",
       " '48_39.jpg',\n",
       " '48_4.jpg',\n",
       " '48_40.jpg',\n",
       " '48_41.jpg',\n",
       " '48_42.jpg',\n",
       " '48_43.jpg',\n",
       " '48_44.jpg',\n",
       " '48_45.jpg',\n",
       " '48_46.jpg',\n",
       " '48_47.jpg',\n",
       " '48_48.jpg',\n",
       " '48_49.jpg',\n",
       " '48_5.jpg',\n",
       " '48_50.jpg',\n",
       " '48_51.jpg',\n",
       " '48_52.jpg',\n",
       " '48_53.jpg',\n",
       " '48_54.jpg',\n",
       " '48_55.jpg',\n",
       " '48_56.jpg',\n",
       " '48_57.jpg',\n",
       " '48_58.jpg',\n",
       " '48_59.jpg',\n",
       " '48_6.jpg',\n",
       " '48_60.jpg',\n",
       " '48_61.jpg',\n",
       " '48_62.jpg',\n",
       " '48_63.jpg',\n",
       " '48_64.jpg',\n",
       " '48_65.jpg',\n",
       " '48_7.jpg',\n",
       " '48_8.jpg',\n",
       " '48_9.jpg']"
      ]
     },
     "execution_count": 20,
     "metadata": {},
     "output_type": "execute_result"
    }
   ],
   "source": [
    "image_names = os.listdir(full_path)\n",
    "image_names"
   ]
  },
  {
   "cell_type": "code",
   "execution_count": null,
   "metadata": {},
   "outputs": [],
   "source": []
  },
  {
   "cell_type": "code",
   "execution_count": null,
   "metadata": {},
   "outputs": [],
   "source": []
  },
  {
   "cell_type": "code",
   "execution_count": 4,
   "metadata": {},
   "outputs": [],
   "source": []
  },
  {
   "cell_type": "code",
   "execution_count": null,
   "metadata": {},
   "outputs": [],
   "source": []
  }
 ],
 "metadata": {
  "kernelspec": {
   "display_name": "Python 3",
   "language": "python",
   "name": "python3"
  },
  "language_info": {
   "codemirror_mode": {
    "name": "ipython",
    "version": 3
   },
   "file_extension": ".py",
   "mimetype": "text/x-python",
   "name": "python",
   "nbconvert_exporter": "python",
   "pygments_lexer": "ipython3",
   "version": "3.8.3"
  }
 },
 "nbformat": 4,
 "nbformat_minor": 4
}
