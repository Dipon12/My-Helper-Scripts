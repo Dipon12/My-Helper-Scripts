{
 "cells": [
  {
   "cell_type": "markdown",
   "metadata": {},
   "source": [
    "# My Dataset\n"
   ]
  },
  {
   "cell_type": "code",
   "execution_count": 1,
   "metadata": {},
   "outputs": [],
   "source": [
    "import os\n",
    "import shutil\n",
    "import numpy as np"
   ]
  },
  {
   "cell_type": "code",
   "execution_count": 5,
   "metadata": {},
   "outputs": [],
   "source": [
    "src = \"F:\\\\AI Paper\\\\Sign Language\\\\OkkhorNama\\\\Refined Data\\\\\"\n",
    "\n",
    "#train_img_dest = \"F:\\\\AI Paper\\\\Sign Language\\\\OkkhorNama\\\\training sets new\\\\images\\\\train\"\n",
    "#val_img_dest = \"F:\\\\AI Paper\\\\Sign Language\\\\OkkhorNama\\\\training sets new\\\\images\\\\val\"\n",
    "#train_txt_dest = \"F:\\\\AI Paper\\\\Sign Language\\\\OkkhorNama\\\\training sets new\\\\labels\\\\train\"\n",
    "#val_txt_dest = \"F:\\\\AI Paper\\\\Sign Language\\\\OkkhorNama\\\\training sets new\\\\labels\\\\val\"\n",
    "\n",
    "train_img_dest = \"G:\\\\My Drive\\\\My Fancy Projects\\\\Bangla Sign Language\\\\My Dataset\\\\images\\\\train\"\n",
    "val_img_dest = \"G:\\\\My Drive\\\\My Fancy Projects\\\\Bangla Sign Language\\\\My Dataset\\\\images\\\\val\"\n",
    "train_txt_dest = \"G:\\\\My Drive\\\\My Fancy Projects\\\\Bangla Sign Language\\\\My Dataset\\\\labels\\\\train\"\n",
    "val_txt_dest = \"G:\\\\My Drive\\\\My Fancy Projects\\\\Bangla Sign Language\\\\My Dataset\\\\labels\\\\val\"\n",
    "\n",
    "folder_names = os.listdir(src)\n",
    "#folder_names=['46','47','48']\n",
    "#folder_names.remove('46')\n",
    "#folder_names.remove('47')\n",
    "#folder_names.remove('48')\n",
    "\n",
    "ratio_of_image_to_train = 1"
   ]
  },
  {
   "cell_type": "code",
   "execution_count": 6,
   "metadata": {},
   "outputs": [
    {
     "name": "stdout",
     "output_type": "stream",
     "text": [
      "[ 78  42  30   0  46  96   8 102  56  20  12  58  72  36  16  14  44  24\n",
      "  68  40  90   6  86  80  32   2  64  54  34  28  52  50  38  60  84   4\n",
      "  74  76  10  94 100  26  62  18  92  70  48  82  98  88  66  22]\n",
      "11\n",
      "41\n",
      "[ 40 102  52  50  28  86  34  76  84 100  48  68  66  96  72  64   4 104\n",
      "   0  22  20  14  80  16  74  60  36  92  82  46  94  90  18  30  54  62\n",
      "  70   6   2  56  12  32   8  58  88  26  44 106  10  24  42  78  98  38]\n",
      "11\n",
      "43\n",
      "[ 64  62 126 104   6  34  42  70 120  16 106  48 100  86  74 122 128  78\n",
      "  90 112  26   4  18  52   0  30  80  50  76 116   8 102  24  38  92  10\n",
      "  36  58  96  72  28  14  46  98  82 118  94 130  84 124  60  68  12  32\n",
      " 110  44  22  56  54 114  88 108  20  66   2  40]\n",
      "14\n",
      "52\n"
     ]
    }
   ],
   "source": [
    "for fn in folder_names:\n",
    "    img_path = os.path.join(src,fn)\n",
    "    \n",
    "    #no_of_img = int(len(os.listdir(img_path))/2)\n",
    "    #no_of_val_images = int(0.16*no_of_img)\n",
    "    #idx = 2*np.random.randint(low=0,high = no_of_img/2,size = no_of_val_images)\n",
    "    \n",
    "    no_of_total_img = int(len(os.listdir(img_path))/2)\n",
    "    no_of_img = int(ratio_of_image_to_train*no_of_total_img)\n",
    "    idx_list = 2*np.random.choice(range(0,no_of_total_img),size = no_of_img,replace = False)\n",
    "\n",
    "    no_of_train_images = int(0.8*len(idx_list))\n",
    "    \n",
    "    train_idx = idx_list[:no_of_train_images]\n",
    "    val_idx = idx_list[no_of_train_images:]\n",
    "    \n",
    "    print(idx_list)\n",
    "    print(len(val_idx))\n",
    "    print(len(train_idx))\n",
    "    \n",
    "  \n",
    "\n",
    "    img_names = os.listdir(img_path)\n",
    "    \n",
    "    for key,img in enumerate(img_names):\n",
    "\n",
    "        if key in val_idx:\n",
    "            shutil.copy(os.path.join(img_path,img),os.path.join(val_img_dest))\n",
    "            shutil.copy(os.path.join(img_path,img_names[key+1]),os.path.join(val_txt_dest))\n",
    "        elif key in train_idx:\n",
    "            shutil.copy(os.path.join(img_path,img),os.path.join(train_img_dest))\n",
    "            shutil.copy(os.path.join(img_path,img_names[key+1]),os.path.join(train_txt_dest))"
   ]
  },
  {
   "cell_type": "code",
   "execution_count": 15,
   "metadata": {},
   "outputs": [
    {
     "ename": "NameError",
     "evalue": "name 'idx' is not defined",
     "output_type": "error",
     "traceback": [
      "\u001b[1;31m---------------------------------------------------------------------------\u001b[0m",
      "\u001b[1;31mNameError\u001b[0m                                 Traceback (most recent call last)",
      "\u001b[1;32m<ipython-input-15-d5af36227ea2>\u001b[0m in \u001b[0;36m<module>\u001b[1;34m\u001b[0m\n\u001b[1;32m----> 1\u001b[1;33m \u001b[0mprint\u001b[0m\u001b[1;33m(\u001b[0m\u001b[0midx\u001b[0m\u001b[1;33m)\u001b[0m\u001b[1;33m\u001b[0m\u001b[1;33m\u001b[0m\u001b[0m\n\u001b[0m",
      "\u001b[1;31mNameError\u001b[0m: name 'idx' is not defined"
     ]
    }
   ],
   "source": [
    "print(idx)"
   ]
  },
  {
   "cell_type": "code",
   "execution_count": 33,
   "metadata": {},
   "outputs": [
    {
     "name": "stdout",
     "output_type": "stream",
     "text": [
      "218\n"
     ]
    }
   ],
   "source": [
    "print(key)"
   ]
  },
  {
   "cell_type": "code",
   "execution_count": 35,
   "metadata": {},
   "outputs": [
    {
     "name": "stdout",
     "output_type": "stream",
     "text": [
      "8_99.txt\n"
     ]
    }
   ],
   "source": [
    "print(img_names[218])"
   ]
  },
  {
   "cell_type": "markdown",
   "metadata": {},
   "source": [
    "# Jahara Dataset"
   ]
  },
  {
   "cell_type": "code",
   "execution_count": 40,
   "metadata": {},
   "outputs": [],
   "source": [
    "import os\n",
    "import shutil\n",
    "import numpy as np"
   ]
  },
  {
   "cell_type": "code",
   "execution_count": 8,
   "metadata": {},
   "outputs": [],
   "source": [
    "img_src = \"G:\\\\My Drive\\\\OkkhorNama Collected Datasets\\\\Fatima\\\\Images\"\n",
    "txt_src = \"G:\\\\My Drive\\\\OkkhorNama Collected Datasets\\\\Fatima\\\\Labels\"\n",
    "\n",
    "train_img_dest = \"G:\\\\My Drive\\\\My Fancy Projects\\\\Bangla Sign Language\\\\My Dataset\\\\images\\\\train\"\n",
    "val_img_dest = \"G:\\\\My Drive\\\\My Fancy Projects\\\\Bangla Sign Language\\\\My Dataset\\\\images\\\\val\"\n",
    "train_txt_dest = \"G:\\\\My Drive\\\\My Fancy Projects\\\\Bangla Sign Language\\\\My Dataset\\\\labels\\\\train\"\n",
    "val_txt_dest = \"G:\\\\My Drive\\\\My Fancy Projects\\\\Bangla Sign Language\\\\My Dataset\\\\labels\\\\val\"\n",
    "\n",
    "folder_names = os.listdir(img_src)\n",
    "#folder_names.remove('12')"
   ]
  },
  {
   "cell_type": "code",
   "execution_count": 9,
   "metadata": {},
   "outputs": [
    {
     "name": "stdout",
     "output_type": "stream",
     "text": [
      "class label 12 starts!! \n",
      " Training Images:83 \n",
      " Val Images:21\n",
      "class label 0 starts!! \n",
      " Training Images:51 \n",
      " Val Images:13\n",
      "class label 1 starts!! \n",
      " Training Images:53 \n",
      " Val Images:14\n",
      "class label 10 starts!! \n",
      " Training Images:67 \n",
      " Val Images:17\n",
      "class label 11 starts!! \n",
      " Training Images:88 \n",
      " Val Images:23\n",
      "class label 13 starts!! \n",
      " Training Images:76 \n",
      " Val Images:19\n",
      "class label 14 starts!! \n",
      " Training Images:83 \n",
      " Val Images:21\n",
      "class label 15 starts!! \n",
      " Training Images:74 \n",
      " Val Images:19\n",
      "class label 16 starts!! \n",
      " Training Images:54 \n",
      " Val Images:14\n",
      "class label 17 starts!! \n",
      " Training Images:83 \n",
      " Val Images:21\n",
      "class label 18 starts!! \n",
      " Training Images:77 \n",
      " Val Images:20\n",
      "class label 19 starts!! \n",
      " Training Images:74 \n",
      " Val Images:19\n",
      "class label 2 starts!! \n",
      " Training Images:47 \n",
      " Val Images:12\n",
      "class label 20 starts!! \n",
      " Training Images:72 \n",
      " Val Images:19\n",
      "class label 21 starts!! \n",
      " Training Images:49 \n",
      " Val Images:13\n",
      "class label 22 starts!! \n",
      " Training Images:90 \n",
      " Val Images:23\n",
      "class label 23 starts!! \n",
      " Training Images:70 \n",
      " Val Images:18\n",
      "class label 24 starts!! \n",
      " Training Images:67 \n",
      " Val Images:17\n",
      "class label 25 starts!! \n",
      " Training Images:91 \n",
      " Val Images:23\n",
      "class label 26 starts!! \n",
      " Training Images:71 \n",
      " Val Images:18\n",
      "class label 27 starts!! \n",
      " Training Images:59 \n",
      " Val Images:15\n",
      "class label 28 starts!! \n",
      " Training Images:77 \n",
      " Val Images:20\n",
      "class label 29 starts!! \n",
      " Training Images:67 \n",
      " Val Images:17\n",
      "class label 3 starts!! \n",
      " Training Images:49 \n",
      " Val Images:13\n",
      "class label 30 starts!! \n",
      " Training Images:68 \n",
      " Val Images:18\n",
      "class label 31 starts!! \n",
      " Training Images:74 \n",
      " Val Images:19\n",
      "class label 32 starts!! \n",
      " Training Images:115 \n",
      " Val Images:29\n",
      "class label 33 starts!! \n",
      " Training Images:97 \n",
      " Val Images:25\n",
      "class label 34 starts!! \n",
      " Training Images:99 \n",
      " Val Images:25\n",
      "class label 35 starts!! \n",
      " Training Images:96 \n",
      " Val Images:25\n",
      "class label 36 starts!! \n",
      " Training Images:73 \n",
      " Val Images:19\n",
      "class label 37 starts!! \n",
      " Training Images:74 \n",
      " Val Images:19\n",
      "class label 38 starts!! \n",
      " Training Images:72 \n",
      " Val Images:18\n",
      "class label 39 starts!! \n",
      " Training Images:60 \n",
      " Val Images:15\n",
      "class label 4 starts!! \n",
      " Training Images:56 \n",
      " Val Images:14\n",
      "class label 40 starts!! \n",
      " Training Images:67 \n",
      " Val Images:17\n",
      "class label 41 starts!! \n",
      " Training Images:74 \n",
      " Val Images:19\n",
      "class label 42 starts!! \n",
      " Training Images:66 \n",
      " Val Images:17\n",
      "class label 43 starts!! \n",
      " Training Images:63 \n",
      " Val Images:16\n",
      "class label 44 starts!! \n",
      " Training Images:82 \n",
      " Val Images:21\n",
      "class label 45 starts!! \n",
      " Training Images:70 \n",
      " Val Images:18\n",
      "class label 46 starts!! \n",
      " Training Images:67 \n",
      " Val Images:17\n",
      "class label 47 starts!! \n",
      " Training Images:49 \n",
      " Val Images:13\n",
      "class label 48 starts!! \n",
      " Training Images:72 \n",
      " Val Images:19\n",
      "class label 5 starts!! \n",
      " Training Images:44 \n",
      " Val Images:12\n",
      "class label 6 starts!! \n",
      " Training Images:54 \n",
      " Val Images:14\n",
      "class label 7 starts!! \n",
      " Training Images:60 \n",
      " Val Images:15\n",
      "class label 8 starts!! \n",
      " Training Images:64 \n",
      " Val Images:17\n",
      "class label 9 starts!! \n",
      " Training Images:64 \n",
      " Val Images:17\n"
     ]
    }
   ],
   "source": [
    "for fn in folder_names:\n",
    "    img_path = os.path.join(img_src,fn)\n",
    "    txt_path = os.path.join(txt_src,fn)\n",
    "    \n",
    "    #no_of_img = int(len(os.listdir(img_path))/2)\n",
    "    #no_of_val_images = int(0.16*no_of_img)\n",
    "    #idx = 2*np.random.randint(low=0,high = no_of_img/2,size = no_of_val_images)\n",
    "    \n",
    "    no_of_total_img = len(os.listdir(img_path))\n",
    "    no_of_img = int(0.7*no_of_total_img)\n",
    "    idx_list = np.random.choice(range(0,no_of_total_img),size = no_of_img,replace = False)\n",
    "\n",
    "    no_of_train_images = int(0.8*len(idx_list))\n",
    "    \n",
    "    train_idx = idx_list[:no_of_train_images]\n",
    "    val_idx = idx_list[no_of_train_images:]\n",
    "    \n",
    "    print(f\"class label {fn} starts!! \\n Training Images:{no_of_train_images} \\n Val Images:{len(val_idx)}\") \n",
    "\n",
    "    img_names = np.sort(os.listdir(img_path)).tolist()\n",
    "    txt_names = np.sort(os.listdir(txt_path)).tolist()\n",
    "    \n",
    "    try:\n",
    "        img_names.remove('desktop.ini')\n",
    "        txt_names.remove('desktop.ini')\n",
    "        txt_names.remove('classes.txt')\n",
    "    except:\n",
    "        pass\n",
    "    \n",
    "    for key,img in enumerate(img_names):\n",
    "        \n",
    "        try:\n",
    "            if key in val_idx:\n",
    "                shutil.copy(os.path.join(img_path,img_names[key]),os.path.join(val_img_dest))\n",
    "                shutil.copy(os.path.join(txt_path,txt_names[key]),os.path.join(val_txt_dest))\n",
    "            elif key in train_idx:\n",
    "                shutil.copy(os.path.join(img_path,img_names[key]),os.path.join(train_img_dest))\n",
    "                shutil.copy(os.path.join(txt_path,txt_names[key]),os.path.join(train_txt_dest))\n",
    "        except:\n",
    "            pass"
   ]
  },
  {
   "cell_type": "code",
   "execution_count": null,
   "metadata": {},
   "outputs": [],
   "source": []
  },
  {
   "cell_type": "code",
   "execution_count": null,
   "metadata": {},
   "outputs": [],
   "source": []
  }
 ],
 "metadata": {
  "kernelspec": {
   "display_name": "Python 3",
   "language": "python",
   "name": "python3"
  },
  "language_info": {
   "codemirror_mode": {
    "name": "ipython",
    "version": 3
   },
   "file_extension": ".py",
   "mimetype": "text/x-python",
   "name": "python",
   "nbconvert_exporter": "python",
   "pygments_lexer": "ipython3",
   "version": "3.8.3"
  }
 },
 "nbformat": 4,
 "nbformat_minor": 4
}
